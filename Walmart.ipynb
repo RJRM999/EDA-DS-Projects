{
 "cells": [
  {
   "cell_type": "code",
   "execution_count": 1,
   "id": "e5fe280e",
   "metadata": {},
   "outputs": [],
   "source": [
    "import pandas as pd\n",
    "from pandas.core.arrays.sparse import SparseArray as _SparseArray\n",
    "import seaborn as sns\n",
    "import numpy as np\n",
    "import os\n",
    "import matplotlib.pyplot as plt\n",
    "import warnings\n",
    "warnings.filterwarnings('ignore')\n",
    "import sklearn"
   ]
  },
  {
   "cell_type": "code",
   "execution_count": 2,
   "id": "b5e2e13d",
   "metadata": {},
   "outputs": [],
   "source": [
    "import scipy.stats as stats"
   ]
  },
  {
   "cell_type": "code",
   "execution_count": 3,
   "id": "0dd6feda",
   "metadata": {},
   "outputs": [],
   "source": [
    "df_wmart = pd.read_csv('/Users/Ramv/Downloads/walmart_data.csv')"
   ]
  },
  {
   "cell_type": "markdown",
   "id": "4e0fe741",
   "metadata": {},
   "source": [
    "The Management team at Walmart Inc. wants to analyze the customer purchase behavior (specifically, purchase amount) against the customer’s gender and the various other factors to help the business make better decisions. They want to understand if the spending habits differ between male and female customers: Do women spend more on Black Friday than men? (Assume 50 million customers are male and 50 million are female)."
   ]
  },
  {
   "cell_type": "code",
   "execution_count": 5,
   "id": "2a991a52",
   "metadata": {},
   "outputs": [
    {
     "data": {
      "text/plain": [
       "(550068, 10)"
      ]
     },
     "execution_count": 5,
     "metadata": {},
     "output_type": "execute_result"
    }
   ],
   "source": [
    "df_wmart.shape"
   ]
  },
  {
   "cell_type": "markdown",
   "id": "a6d61665",
   "metadata": {},
   "source": [
    "The dataset contains 550,068 entries/rows and 10 columns."
   ]
  },
  {
   "cell_type": "code",
   "execution_count": 7,
   "id": "1d588dc1",
   "metadata": {},
   "outputs": [
    {
     "name": "stdout",
     "output_type": "stream",
     "text": [
      "<class 'pandas.core.frame.DataFrame'>\n",
      "RangeIndex: 550068 entries, 0 to 550067\n",
      "Data columns (total 10 columns):\n",
      " #   Column                      Non-Null Count   Dtype \n",
      "---  ------                      --------------   ----- \n",
      " 0   User_ID                     550068 non-null  int64 \n",
      " 1   Product_ID                  550068 non-null  object\n",
      " 2   Gender                      550068 non-null  object\n",
      " 3   Age                         550068 non-null  object\n",
      " 4   Occupation                  550068 non-null  int64 \n",
      " 5   City_Category               550068 non-null  object\n",
      " 6   Stay_In_Current_City_Years  550068 non-null  object\n",
      " 7   Marital_Status              550068 non-null  int64 \n",
      " 8   Product_Category            550068 non-null  int64 \n",
      " 9   Purchase                    550068 non-null  int64 \n",
      "dtypes: int64(5), object(5)\n",
      "memory usage: 42.0+ MB\n"
     ]
    }
   ],
   "source": [
    "df_wmart.info()"
   ]
  },
  {
   "cell_type": "markdown",
   "id": "cc7b5b3e",
   "metadata": {},
   "source": [
    "Columns: \n",
    "\n",
    "Numerical columns: User_ID, Occupation, Marital_Status, Product_Category, Purchase. \n",
    "\n",
    "Categorical columns: Product_ID, Gender, Age, City_Category, Stay_In_Current_City_Years."
   ]
  },
  {
   "cell_type": "code",
   "execution_count": 73,
   "id": "9e7990a8",
   "metadata": {
    "scrolled": true
   },
   "outputs": [
    {
     "data": {
      "text/plain": [
       "User_ID                            0\n",
       "Product_ID                         0\n",
       "Gender                             0\n",
       "Age                                0\n",
       "Occupation                         0\n",
       "City_Category                      0\n",
       "Stay_In_Current_City_Years         0\n",
       "Marital_Status                     0\n",
       "Product_Category                   0\n",
       "Purchase                           0\n",
       "Age_Group                     215719\n",
       "dtype: int64"
      ]
     },
     "execution_count": 73,
     "metadata": {},
     "output_type": "execute_result"
    }
   ],
   "source": [
    "df_wmart.isnull().sum()"
   ]
  },
  {
   "cell_type": "markdown",
   "id": "8edf451c",
   "metadata": {},
   "source": [
    "Missing Values: There are no missing values in any of the columns."
   ]
  },
  {
   "cell_type": "code",
   "execution_count": 12,
   "id": "9fe76716",
   "metadata": {},
   "outputs": [
    {
     "data": {
      "text/plain": [
       "User_ID                        int64\n",
       "Product_ID                    object\n",
       "Gender                        object\n",
       "Age                           object\n",
       "Occupation                     int64\n",
       "City_Category                 object\n",
       "Stay_In_Current_City_Years    object\n",
       "Marital_Status                 int64\n",
       "Product_Category               int64\n",
       "Purchase                       int64\n",
       "dtype: object"
      ]
     },
     "execution_count": 12,
     "metadata": {},
     "output_type": "execute_result"
    }
   ],
   "source": [
    "df_wmart.dtypes"
   ]
  },
  {
   "cell_type": "markdown",
   "id": "ce3a0cf6",
   "metadata": {},
   "source": [
    "Data Types: The dataset has a mix of integer (int64) and object (object) data types. The object type in pandas typically represents strings, which is the case for categorical variables here."
   ]
  },
  {
   "cell_type": "markdown",
   "id": "051b0b9a",
   "metadata": {},
   "source": [
    "This change in data types to analyse categorical data more effectively, especially for tasks like pattern analysis, and visualizations."
   ]
  },
  {
   "cell_type": "code",
   "execution_count": 13,
   "id": "6767698f",
   "metadata": {},
   "outputs": [
    {
     "data": {
      "text/plain": [
       "User_ID                          int64\n",
       "Product_ID                      object\n",
       "Gender                          object\n",
       "Age                             object\n",
       "Occupation                    category\n",
       "City_Category                   object\n",
       "Stay_In_Current_City_Years      object\n",
       "Marital_Status                category\n",
       "Product_Category              category\n",
       "Purchase                         int64\n",
       "dtype: object"
      ]
     },
     "execution_count": 13,
     "metadata": {},
     "output_type": "execute_result"
    }
   ],
   "source": [
    "df_wmart['Occupation'] = df_wmart['Occupation'].astype('category')\n",
    "df_wmart['Marital_Status'] = df_wmart['Marital_Status'].astype('category')\n",
    "df_wmart['Product_Category'] = df_wmart['Product_Category'].astype('category')\n",
    "df_wmart.dtypes"
   ]
  },
  {
   "cell_type": "markdown",
   "id": "0cd3eaeb",
   "metadata": {},
   "source": [
    "Occupation, Marital Status and Product Category are converted to categorical data types."
   ]
  },
  {
   "cell_type": "code",
   "execution_count": 14,
   "id": "aba0bdde",
   "metadata": {},
   "outputs": [
    {
     "data": {
      "text/plain": [
       "User_ID                        5891\n",
       "Product_ID                     3631\n",
       "Gender                            2\n",
       "Age                               7\n",
       "Occupation                       21\n",
       "City_Category                     3\n",
       "Stay_In_Current_City_Years        5\n",
       "Marital_Status                    2\n",
       "Product_Category                 20\n",
       "Purchase                      18105\n",
       "dtype: int64"
      ]
     },
     "execution_count": 14,
     "metadata": {},
     "output_type": "execute_result"
    }
   ],
   "source": [
    "df_wmart.nunique()"
   ]
  },
  {
   "cell_type": "code",
   "execution_count": 21,
   "id": "8912e971",
   "metadata": {},
   "outputs": [
    {
     "data": {
      "text/plain": [
       "(M    414259\n",
       " F    135809\n",
       " Name: Gender, dtype: int64,\n",
       " 26-35    219587\n",
       " 36-45    110013\n",
       " 18-25     99660\n",
       " 46-50     45701\n",
       " 51-55     38501\n",
       " 55+       21504\n",
       " 0-17      15102\n",
       " Name: Age, dtype: int64,\n",
       " B    231173\n",
       " C    171175\n",
       " A    147720\n",
       " Name: City_Category, dtype: int64)"
      ]
     },
     "execution_count": 21,
     "metadata": {},
     "output_type": "execute_result"
    }
   ],
   "source": [
    "vcounts_gender = df_wmart['Gender'].value_counts()\n",
    "vcounts_age = df_wmart['Age'].value_counts()\n",
    "vcounts_city_category = df_wmart['City_Category'].value_counts()\n",
    "vcounts_gender,vcounts_age,vcounts_city_category"
   ]
  },
  {
   "cell_type": "markdown",
   "id": "e8af49bd",
   "metadata": {},
   "source": [
    "Non-Graphical Analysis:\n",
    "\n",
    "Value Counts and Unique Attributes:\n",
    "\n",
    "Gender: Male - 414,259; Female - 135,809.\n",
    "Age: most data falls under the 26-35 age group (219,587)\n",
    "City_Category: Category B is the most common (231,173).\n",
    "Unique values across different attributes like Product_ID, Occupation, etc."
   ]
  },
  {
   "cell_type": "markdown",
   "id": "356cfc6f",
   "metadata": {},
   "source": [
    "Univariate Analysis for Continuous Variable"
   ]
  },
  {
   "cell_type": "code",
   "execution_count": 23,
   "id": "0fe779a3",
   "metadata": {},
   "outputs": [
    {
     "data": {
      "text/plain": [
       "Text(0.5, 1.0, 'Distribution of Purchase Amounts')"
      ]
     },
     "execution_count": 23,
     "metadata": {},
     "output_type": "execute_result"
    },
    {
     "data": {
      "image/png": "[encoded data removed]",
      "text/plain": [
       "<Figure size 1500x600 with 1 Axes>"
      ]
     },
     "metadata": {},
     "output_type": "display_data"
    }
   ],
   "source": [
    "plt.figure(figsize =(15,6))\n",
    "plt.subplot(1,2,1)\n",
    "sns.histplot(df_wmart['Purchase'], kde = True)\n",
    "plt.title('Distribution of Purchase Amounts')"
   ]
  },
  {
   "cell_type": "markdown",
   "id": "6935ac7a",
   "metadata": {},
   "source": [
    "Observation: No. of transcations are quite high for the purchase amount ranging from 5000 to 10000."
   ]
  },
  {
   "cell_type": "markdown",
   "id": "41c41881",
   "metadata": {},
   "source": [
    "# Univariate Analysis for Categorical Variable"
   ]
  },
  {
   "cell_type": "code",
   "execution_count": 33,
   "id": "1f3850f6",
   "metadata": {},
   "outputs": [
    {
     "data": {
      "image/png": "[encoded data removed]",
      "text/plain": [
       "<Figure size 640x480 with 1 Axes>"
      ]
     },
     "metadata": {},
     "output_type": "display_data"
    }
   ],
   "source": [
    "age_bins = [\"0-17\", \"18-25\", \"26-35\", \"36-50\",\"51+\"]\n",
    "plt.subplot(1,2,2)\n",
    "sns.countplot(x='Age', data = df_wmart, order = age_bins)\n",
    "plt.title(\"Customers Count by Age\")\n",
    "plt.show()"
   ]
  },
  {
   "cell_type": "markdown",
   "id": "30c8004b",
   "metadata": {},
   "source": [
    "Observation: This plot clealry shows that the most customers fall under the 26-35 age category."
   ]
  },
  {
   "cell_type": "markdown",
   "id": "f252aa87",
   "metadata": {},
   "source": [
    "# Bivariate Analysis: Boxplot for Categorical Variables."
   ]
  },
  {
   "cell_type": "code",
   "execution_count": 34,
   "id": "31843a42",
   "metadata": {},
   "outputs": [
    {
     "data": {
      "image/png": "[encoded data removed]",
      "text/plain": [
       "<Figure size 1500x600 with 1 Axes>"
      ]
     },
     "metadata": {},
     "output_type": "display_data"
    }
   ],
   "source": [
    "plt.figure(figsize = (15,6))\n",
    "sns.boxplot(x='Age', y ='Purchase', data = df_wmart, order = age_bins)\n",
    "plt.title(\"Purchase amount by Age Group\")\n",
    "plt.show()"
   ]
  },
  {
   "cell_type": "markdown",
   "id": "c7d5bc9f",
   "metadata": {},
   "source": [
    "Purchase amounts by Age Group: there is a slight variation in spending across different age groups"
   ]
  },
  {
   "cell_type": "code",
   "execution_count": 37,
   "id": "b142c2e3",
   "metadata": {},
   "outputs": [
    {
     "data": {
      "text/plain": [
       "count    550068.000000\n",
       "mean       9263.968713\n",
       "std        5023.065394\n",
       "min          12.000000\n",
       "25%        5823.000000\n",
       "50%        8047.000000\n",
       "75%       12054.000000\n",
       "max       23961.000000\n",
       "Name: Purchase, dtype: float64"
      ]
     },
     "execution_count": 37,
     "metadata": {},
     "output_type": "execute_result"
    }
   ],
   "source": [
    "df_wmart['Purchase'].describe()"
   ]
  },
  {
   "cell_type": "markdown",
   "id": "442a80c6",
   "metadata": {},
   "source": [
    "Summary statistics is being done only for the Purchase column as its the only column with true continuous variable."
   ]
  },
  {
   "cell_type": "code",
   "execution_count": 70,
   "id": "f5bf5a39",
   "metadata": {},
   "outputs": [
    {
     "data": {
      "image/png": "[encoded data removed]",
      "text/plain": [
       "<Figure size 1200x600 with 1 Axes>"
      ]
     },
     "metadata": {},
     "output_type": "display_data"
    }
   ],
   "source": [
    "# Plotting boxplots for numerical column(Purchase) to detect outliers\n",
    "plt.figure(figsize=(12, 6))\n",
    "plt.subplot(1, 2, 1)\n",
    "sns.boxplot(y=df_wmart['Purchase'])\n",
    "\n",
    "plt.tight_layout()\n",
    "plt.show()"
   ]
  },
  {
   "cell_type": "markdown",
   "id": "853e05f4",
   "metadata": {},
   "source": [
    "Descriptive Statistics:\n",
    "\n",
    "Purchase: Ranges from 12 to 23,961, with a mean of approximately 9,264 and a median of 8,047. The mean is slightly higher than the median, indicating a potential right-skew in the data.\n",
    "\n",
    "Outlier Detection: \n",
    "\n",
    "The boxplot shows a wide range of purchase amounts, with some higher values that could be considered outliers. \n",
    "\n",
    "The presence of potential outliers in the Purchase column is consistent with the varied nature of product prices in a retail context. These 'outliers' might not be erroneous but instead represent legitimate purchase transactions for high-value items."
   ]
  },
  {
   "cell_type": "markdown",
   "id": "2ee54b86",
   "metadata": {},
   "source": [
    "# Purchase behaviour analysis by Gender"
   ]
  },
  {
   "cell_type": "code",
   "execution_count": 40,
   "id": "764c915e",
   "metadata": {},
   "outputs": [
    {
     "data": {
      "text/html": [
       "<div>\n",
       "<style scoped>\n",
       "    .dataframe tbody tr th:only-of-type {\n",
       "        vertical-align: middle;\n",
       "    }\n",
       "\n",
       "    .dataframe tbody tr th {\n",
       "        vertical-align: top;\n",
       "    }\n",
       "\n",
       "    .dataframe thead th {\n",
       "        text-align: right;\n",
       "    }\n",
       "</style>\n",
       "<table border=\"1\" class=\"dataframe\">\n",
       "  <thead>\n",
       "    <tr style=\"text-align: right;\">\n",
       "      <th></th>\n",
       "      <th>count</th>\n",
       "      <th>mean</th>\n",
       "      <th>std</th>\n",
       "      <th>min</th>\n",
       "      <th>25%</th>\n",
       "      <th>50%</th>\n",
       "      <th>75%</th>\n",
       "      <th>max</th>\n",
       "    </tr>\n",
       "    <tr>\n",
       "      <th>Gender</th>\n",
       "      <th></th>\n",
       "      <th></th>\n",
       "      <th></th>\n",
       "      <th></th>\n",
       "      <th></th>\n",
       "      <th></th>\n",
       "      <th></th>\n",
       "      <th></th>\n",
       "    </tr>\n",
       "  </thead>\n",
       "  <tbody>\n",
       "    <tr>\n",
       "      <th>F</th>\n",
       "      <td>135809.0</td>\n",
       "      <td>8734.565765</td>\n",
       "      <td>4767.233289</td>\n",
       "      <td>12.0</td>\n",
       "      <td>5433.0</td>\n",
       "      <td>7914.0</td>\n",
       "      <td>11400.0</td>\n",
       "      <td>23959.0</td>\n",
       "    </tr>\n",
       "    <tr>\n",
       "      <th>M</th>\n",
       "      <td>414259.0</td>\n",
       "      <td>9437.526040</td>\n",
       "      <td>5092.186210</td>\n",
       "      <td>12.0</td>\n",
       "      <td>5863.0</td>\n",
       "      <td>8098.0</td>\n",
       "      <td>12454.0</td>\n",
       "      <td>23961.0</td>\n",
       "    </tr>\n",
       "  </tbody>\n",
       "</table>\n",
       "</div>"
      ],
      "text/plain": [
       "           count         mean          std   min     25%     50%      75%  \\\n",
       "Gender                                                                      \n",
       "F       135809.0  8734.565765  4767.233289  12.0  5433.0  7914.0  11400.0   \n",
       "M       414259.0  9437.526040  5092.186210  12.0  5863.0  8098.0  12454.0   \n",
       "\n",
       "            max  \n",
       "Gender           \n",
       "F       23959.0  \n",
       "M       23961.0  "
      ]
     },
     "execution_count": 40,
     "metadata": {},
     "output_type": "execute_result"
    }
   ],
   "source": [
    "gender_purchase = df_wmart.groupby('Gender')['Purchase'].describe()\n",
    "gender_purchase"
   ]
  },
  {
   "cell_type": "code",
   "execution_count": 41,
   "id": "aa4f0513",
   "metadata": {
    "scrolled": true
   },
   "outputs": [
    {
     "data": {
      "image/png": "[encoded data removed]",
      "text/plain": [
       "<Figure size 1200x600 with 1 Axes>"
      ]
     },
     "metadata": {},
     "output_type": "display_data"
    }
   ],
   "source": [
    "plt.figure(figsize =(12,6))\n",
    "sns.boxplot(x = 'Gender', y ='Purchase', data=df_wmart)\n",
    "plt.title(\"Purchase amount by Gender\")\n",
    "plt.show()"
   ]
  },
  {
   "cell_type": "code",
   "execution_count": 42,
   "id": "26df7570",
   "metadata": {
    "scrolled": true
   },
   "outputs": [
    {
     "data": {
      "text/html": [
       "<div>\n",
       "<style scoped>\n",
       "    .dataframe tbody tr th:only-of-type {\n",
       "        vertical-align: middle;\n",
       "    }\n",
       "\n",
       "    .dataframe tbody tr th {\n",
       "        vertical-align: top;\n",
       "    }\n",
       "\n",
       "    .dataframe thead th {\n",
       "        text-align: right;\n",
       "    }\n",
       "</style>\n",
       "<table border=\"1\" class=\"dataframe\">\n",
       "  <thead>\n",
       "    <tr style=\"text-align: right;\">\n",
       "      <th></th>\n",
       "      <th>count</th>\n",
       "      <th>mean</th>\n",
       "      <th>std</th>\n",
       "      <th>min</th>\n",
       "      <th>25%</th>\n",
       "      <th>50%</th>\n",
       "      <th>75%</th>\n",
       "      <th>max</th>\n",
       "    </tr>\n",
       "    <tr>\n",
       "      <th>Gender</th>\n",
       "      <th></th>\n",
       "      <th></th>\n",
       "      <th></th>\n",
       "      <th></th>\n",
       "      <th></th>\n",
       "      <th></th>\n",
       "      <th></th>\n",
       "      <th></th>\n",
       "    </tr>\n",
       "  </thead>\n",
       "  <tbody>\n",
       "    <tr>\n",
       "      <th>F</th>\n",
       "      <td>135809.0</td>\n",
       "      <td>8734.565765</td>\n",
       "      <td>4767.233289</td>\n",
       "      <td>12.0</td>\n",
       "      <td>5433.0</td>\n",
       "      <td>7914.0</td>\n",
       "      <td>11400.0</td>\n",
       "      <td>23959.0</td>\n",
       "    </tr>\n",
       "    <tr>\n",
       "      <th>M</th>\n",
       "      <td>414259.0</td>\n",
       "      <td>9437.526040</td>\n",
       "      <td>5092.186210</td>\n",
       "      <td>12.0</td>\n",
       "      <td>5863.0</td>\n",
       "      <td>8098.0</td>\n",
       "      <td>12454.0</td>\n",
       "      <td>23961.0</td>\n",
       "    </tr>\n",
       "  </tbody>\n",
       "</table>\n",
       "</div>"
      ],
      "text/plain": [
       "           count         mean          std   min     25%     50%      75%  \\\n",
       "Gender                                                                      \n",
       "F       135809.0  8734.565765  4767.233289  12.0  5433.0  7914.0  11400.0   \n",
       "M       414259.0  9437.526040  5092.186210  12.0  5863.0  8098.0  12454.0   \n",
       "\n",
       "            max  \n",
       "Gender           \n",
       "F       23959.0  \n",
       "M       23961.0  "
      ]
     },
     "execution_count": 42,
     "metadata": {},
     "output_type": "execute_result"
    }
   ],
   "source": [
    "gender_purchase_stats = df_wmart.groupby('Gender')['Purchase'].describe()\n",
    "gender_purchase_stats"
   ]
  },
  {
   "cell_type": "markdown",
   "id": "2cbc04ea",
   "metadata": {},
   "source": [
    "The analysis of purchase behavior based on gender reveals the following:\n",
    "\n",
    "Male customers, on average, spend more per purchase than female customers at Walmart. The median purchase amount is also higher for male customers. The distribution of purchase amounts (as shown in the boxplot) indicates a slightly wider range for male customers, suggesting more variability in their spending.\n",
    "\n",
    "Considerations for 50 Million Customers: These findings can be extrapolated to a larger population, assuming the sample is representative. For 50 million male and 50 million female customers, it suggests that, on average, male customers might spend more."
   ]
  },
  {
   "cell_type": "markdown",
   "id": "62f50373",
   "metadata": {},
   "source": [
    "# Calculation of mean and std. deviation for Female customers"
   ]
  },
  {
   "cell_type": "code",
   "execution_count": 52,
   "id": "4af76f04",
   "metadata": {},
   "outputs": [
    {
     "name": "stdout",
     "output_type": "stream",
     "text": [
      "mean_female: 8734.565765155476\n",
      "std.dev_female: 4767.233289291444\n"
     ]
    }
   ],
   "source": [
    "mean_female = gender_purchase_stats.loc['F', 'mean']\n",
    "std_female = gender_purchase_stats.loc['F', 'std']\n",
    "n_female = gender_purchase_stats.loc['F', 'count']\n",
    "\n",
    "print(f\"mean_female: {mean_female}\")\n",
    "print(f\"std.dev_female: {std_female}\")"
   ]
  },
  {
   "cell_type": "markdown",
   "id": "1829881d",
   "metadata": {},
   "source": [
    "# Calculation of mean and std. deviation for Male customers"
   ]
  },
  {
   "cell_type": "code",
   "execution_count": 53,
   "id": "bd912ea7",
   "metadata": {},
   "outputs": [
    {
     "name": "stdout",
     "output_type": "stream",
     "text": [
      "mean_male: 9437.526040472265\n",
      "std.dev_male:5092.186209777949\n"
     ]
    }
   ],
   "source": [
    "mean_male = gender_purchase_stats.loc['M', 'mean']\n",
    "std_male = gender_purchase_stats.loc['M', 'std']\n",
    "n_male = gender_purchase_stats.loc['M', 'count']\n",
    "print(f\"mean_male: {mean_male}\")\n",
    "print(f\"std.dev_male:{std_male}\")"
   ]
  },
  {
   "cell_type": "markdown",
   "id": "0875a153",
   "metadata": {},
   "source": [
    "# Calculating with 95% Confidence Interval for the average spending of female customers"
   ]
  },
  {
   "cell_type": "code",
   "execution_count": 50,
   "id": "dd35eac8",
   "metadata": {},
   "outputs": [
    {
     "name": "stdout",
     "output_type": "stream",
     "text": [
      "ci_female: (8709.21154714068, 8759.919983170272)\n"
     ]
    }
   ],
   "source": [
    "ci_female = stats.norm.interval(0.95, loc=mean_female, scale = std_female/np.sqrt(n_female))\n",
    "print(f\"ci_female: {ci_female}\")"
   ]
  },
  {
   "cell_type": "markdown",
   "id": "c1000e33",
   "metadata": {},
   "source": [
    "# Calculating with 95% Confidence Interval for the average spending of male customers"
   ]
  },
  {
   "cell_type": "code",
   "execution_count": 51,
   "id": "2de4a07c",
   "metadata": {},
   "outputs": [
    {
     "name": "stdout",
     "output_type": "stream",
     "text": [
      "ci_male: (9410.44358163295, 9464.60849931158)\n"
     ]
    }
   ],
   "source": [
    "ci_male = stats.norm.interval(0.95, loc=mean_male, scale = std_male/np.sqrt(n_female))\n",
    "print(f\"ci_male: {ci_male}\")"
   ]
  },
  {
   "cell_type": "markdown",
   "id": "caecd9ee",
   "metadata": {},
   "source": [
    "Female Customers:\n",
    "\n",
    "Average Spending: 8,734.57.\n",
    "95% Confidence Interval: The interval within which the average spending of 50 million female customers is likely to lie is approximately 8,709.21 to 8,759.92. \n",
    "This indicates that we can be 95% confident that the true average spending of the entire population of female customers lies within this range.\n",
    "\n",
    "Male Customers:\n",
    "\n",
    "Average Spending: 9,437.53.\n",
    "95% Confidence Interval: The interval within which the average spending of 50 million male customers is likely to lie is approximately 9,422.02 to 9,453.03. This implies that we can be 95% confident that the true average spending of the entire population of male customers falls within this range"
   ]
  },
  {
   "cell_type": "markdown",
   "id": "28f8e097",
   "metadata": {},
   "source": [
    "The analysis suggests that gender plays a role in spending patterns at Walmart, with male customers showing higher average spending. This insight can guide the management team in tailoring marketing strategies, product placements, and promotions to better align with these observed spending behaviors."
   ]
  },
  {
   "cell_type": "markdown",
   "id": "3bebfe2c",
   "metadata": {},
   "source": [
    "# Applying the Central Limit Theorem to compute intervals with different confidence levels and sample sizes\n"
   ]
  },
  {
   "cell_type": "code",
   "execution_count": 58,
   "id": "b8f9d05a",
   "metadata": {},
   "outputs": [],
   "source": [
    "# Function to calculate confidence intervals with varying confidence levels and sample sizes\n",
    "def calc_ci(mean, std, total_n, sample_size, confidence_levels):\n",
    "    intervals = {}\n",
    "    for level in confidence_levels:\n",
    "        sampled_std_error = std / np.sqrt(sample_size)\n",
    "        ci = stats.norm.interval(level, loc=mean, scale=sampled_std_error)\n",
    "        intervals[level] = ci\n",
    "    return intervals"
   ]
  },
  {
   "cell_type": "code",
   "execution_count": 71,
   "id": "97dae954",
   "metadata": {},
   "outputs": [
    {
     "data": {
      "text/plain": [
       "{100: {0.9: (7950.425668513993, 9518.705861796958),\n",
       "  0.95: (7800.205209864311, 9668.92632044664),\n",
       "  0.99: (7506.607844814404, 9962.523685496548)},\n",
       " 500: {0.9: (8383.887653160753, 9085.243877150198),\n",
       "  0.95: (8316.707021730377, 9152.424508580574),\n",
       "  0.99: (8185.406288477094, 9283.725241833858)},\n",
       " 1000: {0.9: (8486.598894150313, 8982.532636160639),\n",
       "  0.95: (8439.095014101498, 9030.036516209453),\n",
       "  0.99: (8346.251375243337, 9122.880155067614)},\n",
       " 5000: {0.9: (8623.671609208383, 8845.459921102569),\n",
       "  0.95: (8602.427228211554, 8866.704302099397),\n",
       "  0.99: (8560.906290658495, 8908.225239652456)},\n",
       " 10000: {0.9: (8656.151755491328, 8812.979774819623),\n",
       "  0.95: (8641.129709626359, 8828.001820684593),\n",
       "  0.99: (8611.769973121369, 8857.361557189583)}}"
      ]
     },
     "execution_count": 71,
     "metadata": {},
     "output_type": "execute_result"
    }
   ],
   "source": [
    "sample_sizes = [100, 500, 1000, 5000, 10000]\n",
    "\n",
    "confidence_levels = [0.90, 0.95, 0.99]\n",
    "\n",
    "# Calculating intervals for female customers\n",
    "ci_female_varied = {n: calculate_confidence_intervals(mean_female, std_female, n_female, n, confidence_levels) \n",
    "                    for n in sample_sizes}\n",
    "\n",
    "ci_female_varied"
   ]
  },
  {
   "cell_type": "code",
   "execution_count": 60,
   "id": "93f5460b",
   "metadata": {},
   "outputs": [
    {
     "data": {
      "text/plain": [
       "{100: {0.9: (8599.93594484571, 10275.116136098817),\n",
       "  0.95: (8439.475883098634, 10435.576197845896),\n",
       "  0.99: (8125.8657946449, 10749.18628629963)},\n",
       " 500: {0.9: (9062.944362251961, 9812.107718692569),\n",
       "  0.95: (8991.184441103906, 9883.867639840624),\n",
       "  0.99: (8850.93374586145, 10024.11833508308)},\n",
       " 1000: {0.9: (9172.656795694451, 9702.395285250079),\n",
       "  0.95: (9121.914868833248, 9753.137212111282),\n",
       "  0.99: (9022.742651161181, 9852.309429783349)},\n",
       " 5000: {0.9: (9319.07291317782, 9555.979167766709),\n",
       "  0.95: (9296.380433623626, 9578.671647320904),\n",
       "  0.99: (9252.029269584797, 9623.022811359733)},\n",
       " 10000: {0.9: (9353.76703090961, 9521.28505003492),\n",
       "  0.95: (9337.721024734901, 9537.331056209629),\n",
       "  0.99: (9306.360015889528, 9568.692065055002)}}"
      ]
     },
     "execution_count": 60,
     "metadata": {},
     "output_type": "execute_result"
    }
   ],
   "source": [
    "# Calculating intervals for male customers\n",
    "ci_male_varied = {n: calculate_confidence_intervals(mean_male, std_male, n_male, n, confidence_levels) \n",
    "                  for n in sample_sizes}\n",
    "ci_male_varied"
   ]
  },
  {
   "cell_type": "markdown",
   "id": "8e432aa1",
   "metadata": {},
   "source": [
    "The computed confidence intervals for average expenses by female and male customers, with varying sample sizes and confidence levels, reveal interesting patterns:\n",
    "\n",
    "Female Customers:\n",
    "\n",
    "As the sample size increases, the width of the confidence interval decreases. This is expected due to the decreased standard error with larger sample sizes.\n",
    "Higher confidence levels (e.g., 99% vs. 90%) result in wider intervals. This indicates a trade-off between confidence level and precision.\n",
    "Male Customers:\n",
    "\n",
    "Similar trends are observed for male customers, with narrower intervals for larger sample sizes and wider intervals for higher confidence levels.\n",
    "Specific Observations: For a sample size of 10,000:\n",
    "\n",
    "Female Customers:\n",
    "\n",
    "90% Confidence Interval: 8,656.15 to 8,812.98.\n",
    "95% Confidence Interval: 8,641.13 to 8,828.00.\n",
    "99% Confidence Interval: 8,611.77 to 8,857.36.\n",
    "\n",
    "Male Customers:\n",
    "\n",
    "90% Confidence Interval: 9,353.77 to 9,521.29.\n",
    "95% Confidence Interval: 9,337.72 to 9,537.33.\n",
    "99% Confidence Interval: 9,306.36 to 9,568.69."
   ]
  },
  {
   "cell_type": "markdown",
   "id": "2d210587",
   "metadata": {},
   "source": [
    "# Analyzing purchase behavior based on Marital Status"
   ]
  },
  {
   "cell_type": "code",
   "execution_count": 74,
   "id": "5401aae2",
   "metadata": {
    "scrolled": false
   },
   "outputs": [
    {
     "data": {
      "image/png": "[encoded data removed]",
      "text/plain": [
       "<Figure size 1500x600 with 1 Axes>"
      ]
     },
     "metadata": {},
     "output_type": "display_data"
    },
    {
     "data": {
      "text/html": [
       "<div>\n",
       "<style scoped>\n",
       "    .dataframe tbody tr th:only-of-type {\n",
       "        vertical-align: middle;\n",
       "    }\n",
       "\n",
       "    .dataframe tbody tr th {\n",
       "        vertical-align: top;\n",
       "    }\n",
       "\n",
       "    .dataframe thead th {\n",
       "        text-align: right;\n",
       "    }\n",
       "</style>\n",
       "<table border=\"1\" class=\"dataframe\">\n",
       "  <thead>\n",
       "    <tr style=\"text-align: right;\">\n",
       "      <th></th>\n",
       "      <th>count</th>\n",
       "      <th>mean</th>\n",
       "      <th>std</th>\n",
       "      <th>min</th>\n",
       "      <th>25%</th>\n",
       "      <th>50%</th>\n",
       "      <th>75%</th>\n",
       "      <th>max</th>\n",
       "    </tr>\n",
       "    <tr>\n",
       "      <th>Marital_Status</th>\n",
       "      <th></th>\n",
       "      <th></th>\n",
       "      <th></th>\n",
       "      <th></th>\n",
       "      <th></th>\n",
       "      <th></th>\n",
       "      <th></th>\n",
       "      <th></th>\n",
       "    </tr>\n",
       "  </thead>\n",
       "  <tbody>\n",
       "    <tr>\n",
       "      <th>0</th>\n",
       "      <td>324731.0</td>\n",
       "      <td>9265.907619</td>\n",
       "      <td>5027.347859</td>\n",
       "      <td>12.0</td>\n",
       "      <td>5605.0</td>\n",
       "      <td>8044.0</td>\n",
       "      <td>12061.0</td>\n",
       "      <td>23961.0</td>\n",
       "    </tr>\n",
       "    <tr>\n",
       "      <th>1</th>\n",
       "      <td>225337.0</td>\n",
       "      <td>9261.174574</td>\n",
       "      <td>5016.897378</td>\n",
       "      <td>12.0</td>\n",
       "      <td>5843.0</td>\n",
       "      <td>8051.0</td>\n",
       "      <td>12042.0</td>\n",
       "      <td>23961.0</td>\n",
       "    </tr>\n",
       "  </tbody>\n",
       "</table>\n",
       "</div>"
      ],
      "text/plain": [
       "                   count         mean          std   min     25%     50%  \\\n",
       "Marital_Status                                                             \n",
       "0               324731.0  9265.907619  5027.347859  12.0  5605.0  8044.0   \n",
       "1               225337.0  9261.174574  5016.897378  12.0  5843.0  8051.0   \n",
       "\n",
       "                    75%      max  \n",
       "Marital_Status                    \n",
       "0               12061.0  23961.0  \n",
       "1               12042.0  23961.0  "
      ]
     },
     "execution_count": 74,
     "metadata": {},
     "output_type": "execute_result"
    }
   ],
   "source": [
    "# Grouping by Marital Status and calculating descriptive statistics for purchase amount\n",
    "marital_purchase_stats = df_wmart.groupby('Marital_Status')['Purchase'].describe()\n",
    "\n",
    "\n",
    "# Plotting boxplots for purchase amounts by Marital Status\n",
    "plt.figure(figsize=(15, 6))\n",
    "plt.subplot(1, 2, 1)\n",
    "sns.boxplot(x='Marital_Status', y='Purchase', data= df_wmart)\n",
    "plt.title('Purchase Amounts by Marital Status')\n",
    "plt.tight_layout()\n",
    "plt.show()\n",
    "\n",
    "marital_purchase_stats"
   ]
  },
  {
   "cell_type": "markdown",
   "id": "a8b85415",
   "metadata": {},
   "source": [
    "Both groups have very similar spending patterns.\n",
    "Mean Purchase Amount: Approximately 9,265 for both groups.\n",
    "The distribution of purchase amounts (as shown in the boxplot) does not show much differences between married and unmarried customers.\n",
    "Marital Status: The lack of significant differences in spending between married and unmarried customers suggests that marital status may not be a strong determinant of purchase amount at Walmart."
   ]
  },
  {
   "cell_type": "markdown",
   "id": "5f9effcf",
   "metadata": {},
   "source": [
    "# Analyzing purchase behavior by Age group"
   ]
  },
  {
   "cell_type": "code",
   "execution_count": 63,
   "id": "6b26a9ef",
   "metadata": {},
   "outputs": [
    {
     "data": {
      "image/png": "[encoded data removed]",
      "text/plain": [
       "<Figure size 1500x600 with 1 Axes>"
      ]
     },
     "metadata": {},
     "output_type": "display_data"
    },
    {
     "data": {
      "text/html": [
       "<div>\n",
       "<style scoped>\n",
       "    .dataframe tbody tr th:only-of-type {\n",
       "        vertical-align: middle;\n",
       "    }\n",
       "\n",
       "    .dataframe tbody tr th {\n",
       "        vertical-align: top;\n",
       "    }\n",
       "\n",
       "    .dataframe thead th {\n",
       "        text-align: right;\n",
       "    }\n",
       "</style>\n",
       "<table border=\"1\" class=\"dataframe\">\n",
       "  <thead>\n",
       "    <tr style=\"text-align: right;\">\n",
       "      <th></th>\n",
       "      <th>count</th>\n",
       "      <th>mean</th>\n",
       "      <th>std</th>\n",
       "      <th>min</th>\n",
       "      <th>25%</th>\n",
       "      <th>50%</th>\n",
       "      <th>75%</th>\n",
       "      <th>max</th>\n",
       "    </tr>\n",
       "    <tr>\n",
       "      <th>Age_Group</th>\n",
       "      <th></th>\n",
       "      <th></th>\n",
       "      <th></th>\n",
       "      <th></th>\n",
       "      <th></th>\n",
       "      <th></th>\n",
       "      <th></th>\n",
       "      <th></th>\n",
       "    </tr>\n",
       "  </thead>\n",
       "  <tbody>\n",
       "    <tr>\n",
       "      <th>0-17</th>\n",
       "      <td>15102.0</td>\n",
       "      <td>8933.464640</td>\n",
       "      <td>5111.114046</td>\n",
       "      <td>12.0</td>\n",
       "      <td>5328.0</td>\n",
       "      <td>7986.0</td>\n",
       "      <td>11874.0</td>\n",
       "      <td>23955.0</td>\n",
       "    </tr>\n",
       "    <tr>\n",
       "      <th>18-25</th>\n",
       "      <td>99660.0</td>\n",
       "      <td>9169.663606</td>\n",
       "      <td>5034.321997</td>\n",
       "      <td>12.0</td>\n",
       "      <td>5415.0</td>\n",
       "      <td>8027.0</td>\n",
       "      <td>12028.0</td>\n",
       "      <td>23958.0</td>\n",
       "    </tr>\n",
       "    <tr>\n",
       "      <th>26-35</th>\n",
       "      <td>219587.0</td>\n",
       "      <td>9252.690633</td>\n",
       "      <td>5010.527303</td>\n",
       "      <td>12.0</td>\n",
       "      <td>5475.0</td>\n",
       "      <td>8030.0</td>\n",
       "      <td>12047.0</td>\n",
       "      <td>23961.0</td>\n",
       "    </tr>\n",
       "    <tr>\n",
       "      <th>36-50</th>\n",
       "      <td>0.0</td>\n",
       "      <td>NaN</td>\n",
       "      <td>NaN</td>\n",
       "      <td>NaN</td>\n",
       "      <td>NaN</td>\n",
       "      <td>NaN</td>\n",
       "      <td>NaN</td>\n",
       "      <td>NaN</td>\n",
       "    </tr>\n",
       "    <tr>\n",
       "      <th>51+</th>\n",
       "      <td>0.0</td>\n",
       "      <td>NaN</td>\n",
       "      <td>NaN</td>\n",
       "      <td>NaN</td>\n",
       "      <td>NaN</td>\n",
       "      <td>NaN</td>\n",
       "      <td>NaN</td>\n",
       "      <td>NaN</td>\n",
       "    </tr>\n",
       "  </tbody>\n",
       "</table>\n",
       "</div>"
      ],
      "text/plain": [
       "              count         mean          std   min     25%     50%      75%  \\\n",
       "Age_Group                                                                      \n",
       "0-17        15102.0  8933.464640  5111.114046  12.0  5328.0  7986.0  11874.0   \n",
       "18-25       99660.0  9169.663606  5034.321997  12.0  5415.0  8027.0  12028.0   \n",
       "26-35      219587.0  9252.690633  5010.527303  12.0  5475.0  8030.0  12047.0   \n",
       "36-50           0.0          NaN          NaN   NaN     NaN     NaN      NaN   \n",
       "51+             0.0          NaN          NaN   NaN     NaN     NaN      NaN   \n",
       "\n",
       "               max  \n",
       "Age_Group           \n",
       "0-17       23955.0  \n",
       "18-25      23958.0  \n",
       "26-35      23961.0  \n",
       "36-50          NaN  \n",
       "51+            NaN  "
      ]
     },
     "execution_count": 63,
     "metadata": {},
     "output_type": "execute_result"
    }
   ],
   "source": [
    "# Binning the age groups\n",
    "age_bins = [\"0-17\", \"18-25\", \"26-35\", \"36-50\", \"51+\"]\n",
    "df_wmart['Age_Group'] = pd.Categorical(df_wmart['Age'], categories=age_bins, ordered=True)\n",
    "\n",
    "# Grouping by Age Group and calculating descriptive statistics for purchase amount\n",
    "age_purchase_stats = df_wmart.groupby('Age_Group')['Purchase'].describe()\n",
    "\n",
    "# Plotting boxplots for purchase amounts by Age Group\n",
    "plt.figure(figsize=(15, 6))\n",
    "plt.subplot(1, 2, 2)\n",
    "sns.boxplot(x='Age_Group', y='Purchase', data=df_wmart)\n",
    "plt.title('Purchase Amounts by Age Group')\n",
    "plt.show()\n",
    "\n",
    "age_purchase_stats"
   ]
  },
  {
   "cell_type": "markdown",
   "id": "de8361fd",
   "metadata": {},
   "source": [
    "Age Group Analysis: Age-Based Purchase Behavior:\n",
    "\n",
    "The analysis considered the following age bins: 0-17, 18-25, 26-35, 36-50, 51+ years.\n",
    "no entries were found for the \"36-50\" and \"51+\" age groups in the dataset for these bins.\n",
    "For the available age groups:\n",
    "\n",
    "0-17 Years: Mean Purchase Amount is approximately 8,933.\n",
    "18-25 Years: Mean Purchase Amount is approximately 9,169.\n",
    "26-35 Years: Mean Purchase Amount is approximately 9,252.\n",
    "\n",
    "These results show a slight increase in average spending with age up to 35 years.\n",
    "\n",
    "Age-Based Marketing: The increase in spending with age, up to 35 years, suggests that younger age groups (especially 18-35) could be key target demographics for certain products or promotions."
   ]
  },
  {
   "cell_type": "markdown",
   "id": "31335ebe",
   "metadata": {},
   "source": [
    "Questions:\n",
    "    \n",
    "1.Are Women spending more money per transaction than Men? \n",
    "Why or Why Not?\n",
    "\n",
    "Findings: Men are spending more per transaction than women. The average purchase amount for male customers (9,437.53) is higher than that for female customers (8,734.57).\n",
    "Reason: This could be due to various factors including differences in shopping habits, preferences for product categories, or income levels between genders.\n",
    "\n",
    "2.Confidence Intervals and Distribution of the Mean of the Expenses by Female and Male Customers\n",
    "\n",
    "Confidence Intervals: For a sample size of 10,000, the 95% confidence interval for average female spending is approximately 8,641.13 to 8,828.00, and for male spending, it is 9,337.72 to 9,537.33.\n",
    "Distribution: The distribution of mean expenses suggests that male customers on average spend more than female customers, with non-overlapping confidence intervals indicating a statistically significant difference.\n",
    "\n",
    "3.Are Confidence Intervals of average Male and Female spending overlapping?\n",
    "\n",
    "Findings: The confidence intervals for average spending of male and female customers do not overlap.\n",
    "Implications for Walmart: This significant difference in spending patterns can inform gender-targeted marketing strategies, inventory management, and product placement. Walmart could focus on higher-value items in areas frequented by male customers and design promotions appealing to female customers.\n",
    "\n",
    "4.Results when the same activity is performed for Married vs Unmarried\n",
    "\n",
    "Findings: There was no significant difference in spending patterns between married and unmarried customers. Both groups have similar average spending amounts.\n",
    "Implication: Marital status may not be a significant factor in customer spending at Walmart, suggesting that marketing and product strategies need not be heavily differentiated on this basis.\n",
    "\n",
    "5.Results when the same activity is performed for Age\n",
    "\n",
    "Findings: The analysis showed a slight increase in average spending with age, at least up to the age of 35.\n",
    "Implication: Walmart could focus on products and marketing strategies that cater to the preferences of younger adults, particularly those in the 26-35 age group, as they constitute a major portion of the customer base and show increasing spending patterns."
   ]
  },
  {
   "cell_type": "markdown",
   "id": "176da34f",
   "metadata": {},
   "source": [
    "# Final Insights Based on Exploration and Central Limit Theorem (CLT)"
   ]
  },
  {
   "cell_type": "markdown",
   "id": "ccc9be77",
   "metadata": {},
   "source": [
    "\n",
    "\n",
    "Insights from Data Exploration:\n",
    "\n",
    "Gender-Based Spending:\n",
    "Men spend more per transaction than women. This insight is crucial for tailoring marketing strategies and product offerings.\n",
    "\n",
    "Age Group Spending:\n",
    "There is a noticeable trend of increased spending in the 26-35 age group, suggesting this demographic is a key market for Walmart.\n",
    "\n",
    "Marital Status:\n",
    "Spending patterns do not significantly vary between married and unmarried customers, indicating that marital status may not be a primary factor influencing purchase decisions at Walmart.\n",
    "\n",
    "Insights from Central Limit Theorem (CLT):\n",
    "\n",
    "Statistical Significance:\n",
    "The CLT was used to calculate confidence intervals, revealing that the differences in average spending between different demographic groups (like gender and age) are statistically significant.\n",
    "\n",
    "Population Generalization:\n",
    "Using the CLT, we can generalize our sample findings to the broader population of Walmart customers with a known level of confidence"
   ]
  },
  {
   "cell_type": "markdown",
   "id": "1df8e2eb",
   "metadata": {},
   "source": [
    "# Recommendations:"
   ]
  },
  {
   "cell_type": "markdown",
   "id": "92c9d6a8",
   "metadata": {},
   "source": [
    "Focus on Young Adult Customers: Develop marketing campaigns and in-store promotions tailored to the 26-35 age group, as they represent a significant portion of the customer base and show higher spending patterns.\n",
    "\n",
    "Diverse Product Range: Continue to offer a wide range of products to cater to the diverse spending abilities and needs of Walmart's customer base, as indicated by the wide range of purchase amounts.\n",
    "\n",
    "Gender-Specific Promotions: Implement gender-specific promotions and discounts, especially targeting female customers, to increase their spending to levels closer to male customers.\n",
    "    \n",
    "Customer Engagement Strategies: Engage with customers through surveys and feedback platforms to better understand their needs and preferences, especially focusing on the key demographics identified.\n",
    "        \n",
    "Target Marketing Efforts Towards Men: Prioritize high-value products and promotional strategies in sections of the store and online platforms frequented by male customers, as they tend to spend more per transaction.\n",
    "      \n",
    "Training for Staff: Train staff to understand these demographic insights, enabling them to offer better customer service and recommendations, enhancing the overall shopping experience."
   ]
  },
  {
   "cell_type": "code",
   "execution_count": null,
   "id": "525f1b95",
   "metadata": {},
   "outputs": [],
   "source": []
  }
 ],
 "metadata": {
  "kernelspec": {
   "display_name": "Python 3 (ipykernel)",
   "language": "python",
   "name": "python3"
  },
  "language_info": {
   "codemirror_mode": {
    "name": "ipython",
    "version": 3
   },
   "file_extension": ".py",
   "mimetype": "text/x-python",
   "name": "python",
   "nbconvert_exporter": "python",
   "pygments_lexer": "ipython3",
   "version": "3.10.9"
  }
 },
 "nbformat": 4,
 "nbformat_minor": 5
}
